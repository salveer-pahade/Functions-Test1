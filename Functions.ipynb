{
  "nbformat": 4,
  "nbformat_minor": 0,
  "metadata": {
    "colab": {
      "provenance": []
    },
    "kernelspec": {
      "name": "python3",
      "display_name": "Python 3"
    },
    "language_info": {
      "name": "python"
    }
  },
  "cells": [
    {
      "cell_type": "code",
      "execution_count": null,
      "metadata": {
        "id": "mrebjbN-YUxb"
      },
      "outputs": [],
      "source": []
    },
    {
      "cell_type": "markdown",
      "source": [
        "#Functions\n"
      ],
      "metadata": {
        "id": "cmtRBIRiYjTU"
      }
    },
    {
      "cell_type": "markdown",
      "source": [
        "1. What is your name?\n",
        "  -> My name is Salveer.\n",
        "2. Where do you live?\n",
        "  -> I live in Indore\n"
      ],
      "metadata": {
        "id": "xXGj_h7bYxWQ"
      }
    },
    {
      "cell_type": "markdown",
      "source": [
        "''' you can also try this way '''\n",
        "# Questions\n",
        "\n",
        "'''\n",
        "1. What is your name?\n",
        "  -> My name is Salveer\n",
        "\n",
        "2. Where do you live?\n",
        "  -> I live in indore.\n",
        "\n",
        "'''"
      ],
      "metadata": {
        "id": "l8k14kMSZXPj"
      }
    },
    {
      "cell_type": "markdown",
      "source": [],
      "metadata": {
        "id": "U994XssFbI-i"
      }
    },
    {
      "cell_type": "markdown",
      "source": [],
      "metadata": {
        "id": "Gv8Wy5GebAba"
      }
    }
  ]
}